{
 "cells": [
  {
   "cell_type": "code",
   "execution_count": 35,
   "id": "d4df4760-0d38-4475-a202-8c773fe2d37c",
   "metadata": {},
   "outputs": [],
   "source": [
    "import numpy as np\n",
    "import matplotlib.pyplot as plt\n",
    "from astropy import units as u, constants as const\n",
    "from scipy import optimize, special"
   ]
  },
  {
   "cell_type": "code",
   "execution_count": 44,
   "id": "3e2e905b-9d46-405e-8f29-848d3654ce8f",
   "metadata": {},
   "outputs": [],
   "source": [
    "g_prefactor = 1/4\n",
    "Q_He = 24.6 * u.eV\n",
    "eta = 6e-10\n",
    "X=1/2\n",
    "\n",
    "\n",
    "def saha(T):\n",
    "    numerical_prefactor = g_prefactor * eta * special.zeta(3) * np.sqrt(2 / np.pi)\n",
    "    factor1 = ((const.m_e * const.c**2) / (const.k_B * T)) ** (-3/2)\n",
    "    factor2 = np.exp(Q_He /(const.k_B * T))\n",
    "    val = numerical_prefactor * factor1 * factor2\n",
    "    return val\n",
    "\n",
    "\n",
    "def sahaX(X):\n",
    "    return (1 - X)/X**2\n",
    "\n",
    "\n",
    "def root_f(T_dimless):\n",
    "    return saha(T_dimless * u.K) - sahaX(X)"
   ]
  },
  {
   "cell_type": "code",
   "execution_count": 45,
   "id": "93d8dbe4-e5fa-4750-a1bd-e4dc95ceb7fd",
   "metadata": {},
   "outputs": [
    {
     "data": {
      "text/plain": [
       "    fjac: array([[-1.]])\n",
       "     fun: array([1.40021328e-12])\n",
       " message: 'The solution converged.'\n",
       "    nfev: 355\n",
       "     qtf: array([-7.89092724e-08])\n",
       "       r: array([0.01306604])\n",
       "  status: 1\n",
       " success: True\n",
       "       x: array([6496.59616294])"
      ]
     },
     "execution_count": 45,
     "metadata": {},
     "output_type": "execute_result"
    }
   ],
   "source": [
    "res = optimize.root(root_f, x0=1000)\n",
    "res"
   ]
  },
  {
   "cell_type": "code",
   "execution_count": 46,
   "id": "c1601f20-a951-4859-a75d-b717e899857f",
   "metadata": {},
   "outputs": [
    {
     "data": {
      "image/png": "[encoded data removed]",
      "text/plain": [
       "<Figure size 432x288 with 1 Axes>"
      ]
     },
     "metadata": {
      "needs_background": "light"
     },
     "output_type": "display_data"
    }
   ],
   "source": [
    "test_T = np.logspace(3.7, 4, 1000)\n",
    "test_saha = saha(test_T * u.K)\n",
    "\n",
    "fig, ax = plt.subplots()\n",
    "ax.plot(test_T, test_saha)\n",
    "ax.set_yscale('log')\n",
    "ax.set_xscale('log')\n",
    "ax.axhline(sahaX(X), ls='--', c='r', label=f'X={X:.1f}')\n",
    "ax.axvline(res.x[0], ls='-.', c='r', label=f'T={res.x[0]:.1f}K')\n",
    "ax.legend()\n",
    "ax.set_xlabel('T [K]')\n",
    "ax.set_ylabel('$(1-X)/X^2$')\n",
    "\n",
    "plt.show()\n",
    "plt.close()"
   ]
  },
  {
   "cell_type": "code",
   "execution_count": null,
   "id": "ef98007e-8a91-4354-8d0b-1239ca7dc426",
   "metadata": {},
   "outputs": [],
   "source": []
  }
 ],
 "metadata": {
  "kernelspec": {
   "display_name": "Python 3 (ipykernel)",
   "language": "python",
   "name": "python3"
  },
  "language_info": {
   "codemirror_mode": {
    "name": "ipython",
    "version": 3
   },
   "file_extension": ".py",
   "mimetype": "text/x-python",
   "name": "python",
   "nbconvert_exporter": "python",
   "pygments_lexer": "ipython3",
   "version": "3.9.0"
  }
 },
 "nbformat": 4,
 "nbformat_minor": 5
}
